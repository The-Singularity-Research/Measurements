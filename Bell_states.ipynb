{
 "cells": [
  {
   "cell_type": "markdown",
   "metadata": {},
   "source": [
    "# Bell States, Measurements, and Expectation Values"
   ]
  },
  {
   "cell_type": "code",
   "execution_count": 1,
   "metadata": {},
   "outputs": [],
   "source": [
    "import pennylane as qml\n",
    "from pennylane import numpy as np"
   ]
  },
  {
   "cell_type": "code",
   "execution_count": 2,
   "metadata": {},
   "outputs": [],
   "source": [
    "dev1 = qml.device(\"default.qubit\", wires=2, shots=10)"
   ]
  },
  {
   "cell_type": "markdown",
   "metadata": {},
   "source": [
    "## Bell States"
   ]
  },
  {
   "cell_type": "markdown",
   "metadata": {},
   "source": [
    "### State 1\n",
    "$|00\\rangle = |0\\rangle \\otimes |0\\rangle = \\begin{pmatrix} 1\\\\0 \\end{pmatrix} \\otimes \\begin{pmatrix} 1\\\\0 \\end{pmatrix} = \\begin{pmatrix} 1\\\\0\\\\0\\\\0 \\end{pmatrix} \\mapsto CNOT(H|0\\rangle \\otimes I|0\\rangle)$\n",
    "\n",
    "Now, let's have a look at what $CNOT(H|0\\rangle \\otimes I|0\\rangle)$ is:\n",
    "\n",
    "$ =\\begin{pmatrix}1 & 0 & 0 & 0 \\\\ 0 & 1 & 0 & 0 \\\\ 0 & 0 & 0 & 1 \\\\ 0 & 0 & 1 & 0 \\end{pmatrix} \\left(\\frac{1}{\\sqrt{2}}\\begin{pmatrix}1 & 1\\\\ 1 & -1 \\end{pmatrix}\\begin{pmatrix} 1\\\\0 \\end{pmatrix} \\otimes \\begin{pmatrix} 1\\\\ 0 \\end{pmatrix}\\right)$ \n",
    "\n",
    "$ = \\begin{pmatrix}1 & 0 & 0 & 0 \\\\ 0 & 1 & 0 & 0 \\\\ 0 & 0 & 0 & 1 \\\\ 0 & 0 & 1 & 0 \\end{pmatrix}\\left( \\frac{1}{\\sqrt{2}} \\begin{pmatrix} 1 \\\\ 1 \\end{pmatrix} \\otimes \\begin{pmatrix} 1\\\\0 \\end{pmatrix} \\right)$\n",
    "\n",
    "$ = \\frac{1}{\\sqrt{2}}\\begin{pmatrix}1 & 0 & 0 & 0 \\\\ 0 & 1 & 0 & 0 \\\\ 0 & 0 & 0 & 1 \\\\ 0 & 0 & 1 & 0 \\end{pmatrix} \\begin{pmatrix} 1\\\\0\\\\1\\\\0 \\end{pmatrix}$\n",
    "\n",
    "$ = \\frac{1}{\\sqrt{2}} \\begin{pmatrix} 1\\\\0\\\\0\\\\1 \\end{pmatrix}$\n",
    "\n",
    "$ = \\frac{|00\\rangle + |11\\rangle}{\\sqrt{2}} = |\\beta_{00}\\rangle$\n",
    "\n",
    "Now let's compute an expectation value using the Pauli-Z operator:\n",
    "\n",
    "$\\langle \\beta_{00} | I \\otimes Z | \\beta_{00} \\rangle = \\begin{pmatrix}1, &0, &0, &1 \\end{pmatrix} \\begin{pmatrix} 1&0&0&0\\\\0&-1&0&0\\\\0&0&1&0\\\\0&0&0&-1 \\end{pmatrix} \\begin{pmatrix} 1\\\\0\\\\0\\\\1 \\end{pmatrix} = 0$\n",
    "\n",
    "The following quantum circuit computes this expectation value, as well as the expectation value $\\langle \\beta_{00} | Z \\otimes I | \\beta_{00} \\rangle$, and outputs a numpy array $[0. \\ 0.]$. "
   ]
  },
  {
   "cell_type": "code",
   "execution_count": 3,
   "metadata": {},
   "outputs": [
    {
     "name": "stdout",
     "output_type": "stream",
     "text": [
      "[0. 0.]\n"
     ]
    }
   ],
   "source": [
    "n = np.array([0, 0])\n",
    "@qml.qnode(dev1)\n",
    "def circuit():\n",
    "    qml.BasisState(n, wires=[0, 1])\n",
    "    qml.Hadamard(wires=0)\n",
    "    qml.CNOT(wires=[0, 1])\n",
    "    return qml.expval(qml.PauliZ(0)), qml.expval(qml.PauliZ(1))\n",
    "\n",
    "print(circuit())"
   ]
  },
  {
   "cell_type": "markdown",
   "metadata": {},
   "source": [
    "The next circuit measures the quantum circuit 10 times, which is specified by the number of shots parameter in the definition of the quantum device 'dev1' being used. It outputs the measurements using the observables $Z \\otimes I$ and $I \\otimes Z$ in an array. We can see that the pair of measurement outcomes in all ten cases match, which is to be expected from the entanglement and the intitial state $|00\\rangle$. "
   ]
  },
  {
   "cell_type": "code",
   "execution_count": 4,
   "metadata": {},
   "outputs": [
    {
     "name": "stdout",
     "output_type": "stream",
     "text": [
      "[[-1. -1. -1.  1. -1.  1. -1.  1. -1.  1.]\n",
      " [ 1. -1.  1. -1. -1.  1.  1.  1. -1. -1.]]\n"
     ]
    }
   ],
   "source": [
    "n = np.array([0, 0])\n",
    "@qml.qnode(dev1)\n",
    "def circuit():\n",
    "    qml.BasisState(n, wires=[0, 1])\n",
    "    qml.Hadamard(wires=0)\n",
    "    qml.CNOT(wires=[0, 1])\n",
    "    return qml.sample(qml.PauliZ(0)), qml.sample(qml.PauliZ(1))\n",
    "\n",
    "print(circuit())"
   ]
  },
  {
   "cell_type": "markdown",
   "metadata": {},
   "source": [
    "### State 2\n",
    "In the following circuit, we sample the same circuit, except we prepare the initial state to be $|10\\rangle$. "
   ]
  },
  {
   "cell_type": "code",
   "execution_count": 5,
   "metadata": {},
   "outputs": [
    {
     "name": "stdout",
     "output_type": "stream",
     "text": [
      "[[-1. -1. -1. -1.  1. -1.  1. -1.  1. -1.]\n",
      " [-1.  1. -1.  1. -1. -1. -1. -1. -1.  1.]]\n"
     ]
    }
   ],
   "source": [
    "n = np.array([1, 0])\n",
    "@qml.qnode(dev1)\n",
    "def circuit():\n",
    "    qml.BasisState(n, wires=[0, 1])\n",
    "    qml.Hadamard(wires=0)\n",
    "    qml.CNOT(wires=[0, 1])\n",
    "    return qml.sample(qml.PauliZ(0)), qml.sample(qml.PauliZ(1))\n",
    "\n",
    "print(circuit())"
   ]
  },
  {
   "cell_type": "markdown",
   "metadata": {},
   "source": [
    "### Exercize 2.1\n",
    "As an exercise, draw the circuit diagram and write out the linear algebra involved in this computation. \n",
    "\n",
    "### Exercise 2.2\n",
    "Now compose a circuit that measures the expectation values of $\\langle \\beta_{10}| Z \\otimes I | \\beta_{10} \\rangle$ and $\\langle \\beta_{10}|I \\otimes Z|\\beta_{10}\\rangle$ for the intitial state $|10\\rangle$ which gives the output state $|\\beta_{10}\\rangle$ that you computed in the previous exercise."
   ]
  },
  {
   "cell_type": "markdown",
   "metadata": {},
   "source": [
    "### State 3\n",
    "In the following circuit, we sample the same circuit, except we prepare the initial state to be $|01\\rangle$."
   ]
  },
  {
   "cell_type": "code",
   "execution_count": 6,
   "metadata": {},
   "outputs": [
    {
     "name": "stdout",
     "output_type": "stream",
     "text": [
      "[[ 1. -1.  1.  1. -1. -1. -1. -1.  1. -1.]\n",
      " [ 1. -1.  1. -1.  1. -1.  1.  1.  1.  1.]]\n"
     ]
    }
   ],
   "source": [
    "n = np.array([0, 1])\n",
    "@qml.qnode(dev1)\n",
    "def circuit():\n",
    "    qml.BasisState(n, wires=[0, 1])\n",
    "    qml.Hadamard(wires=0)\n",
    "    qml.CNOT(wires=[0, 1])\n",
    "    return qml.sample(qml.PauliZ(0)), qml.sample(qml.PauliZ(1))\n",
    "\n",
    "print(circuit())"
   ]
  },
  {
   "cell_type": "markdown",
   "metadata": {},
   "source": [
    "### Exercize 3.1\n",
    "As an exercise, draw the circuit diagram and write out the linear algebra involved in this computation. \n",
    "\n",
    "### Exercise 3.2\n",
    "Now compose a circuit that measures the expectation values of $\\langle \\beta_{01}| Z \\otimes I | \\beta_{01} \\rangle$ and $\\langle \\beta_{01}|I \\otimes Z|\\beta_{01}\\rangle$ for the intitial state $|01\\rangle$ which gives the output state $|\\beta_{01}\\rangle$ that you computed in the previous exercise."
   ]
  },
  {
   "cell_type": "markdown",
   "metadata": {},
   "source": [
    "### State 4\n",
    "In the following circuit, we sample the same circuit, except we prepare the initial state to be $|11\\rangle$."
   ]
  },
  {
   "cell_type": "code",
   "execution_count": 7,
   "metadata": {},
   "outputs": [
    {
     "name": "stdout",
     "output_type": "stream",
     "text": [
      "[[-1.  1. -1. -1.  1. -1.  1. -1.  1.  1.]\n",
      " [-1.  1. -1. -1.  1.  1. -1.  1.  1.  1.]]\n"
     ]
    }
   ],
   "source": [
    "n = np.array([1, 1])\n",
    "@qml.qnode(dev1)\n",
    "def circuit():\n",
    "    qml.BasisState(n, wires=[0, 1])\n",
    "    qml.Hadamard(wires=0)\n",
    "    qml.CNOT(wires=[0, 1])\n",
    "    return qml.sample(qml.PauliZ(0)), qml.sample(qml.PauliZ(1))\n",
    "\n",
    "print(circuit())"
   ]
  },
  {
   "cell_type": "markdown",
   "metadata": {},
   "source": [
    "### Exercize 4.1\n",
    "As an exercise, draw the circuit diagram and write out the linear algebra involved in this computation. \n",
    "\n",
    "### Exercise 4.2\n",
    "Now compose a circuit that measures the expectation values of $\\langle \\beta_{11}| Z \\otimes I | \\beta_{11} \\rangle$ and $\\langle \\beta_{11}|I \\otimes Z|\\beta_{11}\\rangle$ for the intitial state $|11\\rangle$ which gives the output state $|\\beta_{11}\\rangle$ that you computed in the previous exercise."
   ]
  },
  {
   "cell_type": "code",
   "execution_count": null,
   "metadata": {},
   "outputs": [],
   "source": []
  }
 ],
 "metadata": {
  "kernelspec": {
   "display_name": "Python 3",
   "language": "python",
   "name": "python3"
  },
  "language_info": {
   "codemirror_mode": {
    "name": "ipython",
    "version": 3
   },
   "file_extension": ".py",
   "mimetype": "text/x-python",
   "name": "python",
   "nbconvert_exporter": "python",
   "pygments_lexer": "ipython3",
   "version": "3.7.3"
  }
 },
 "nbformat": 4,
 "nbformat_minor": 4
}
